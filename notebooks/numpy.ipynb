{
 "cells": [
  {
   "cell_type": "markdown",
   "metadata": {},
   "source": [
    "# **Numpy**\n",
    "\n",
    "Numpy es una librería de Python que se utiliza para:\n",
    "- Realizar cálculos numéricos eficientes\n",
    "- Manejar y operar con arrays multidimensionales\n",
    "\n",
    "### **Ventajas:**\n",
    "\n",
    "- **Velocidad**: Es más rápido que usar listas nativas de Python, ya que está optimizado para cálculos numéricos.\n",
    "- **Tamaño**: Optimiza bien el almacenamiento en memoria, permitiendo manejar grandes volúmenes de datos de manera eficiente.\n",
    "- **Tipos de datos**: Maneja varios tipos de datos, incluyendo enteros, flotantes, complejos, y booleanos.\n",
    "- **Operaciones vectorizadas**: Permite realizar operaciones matemáticas en arrays completos sin necesidad de bucles explícitos.\n",
    "- **Funciones matemáticas**: Ofrece una amplia gama de funciones matemáticas y estadísticas.\n",
    "- **Compatibilidad**: Se integra fácilmente con otras librerías como Pandas, Matplotlib y Scipy."
   ]
  },
  {
   "cell_type": "markdown",
   "metadata": {},
   "source": [
    "___"
   ]
  },
  {
   "cell_type": "markdown",
   "metadata": {},
   "source": [
    "### **¿Como importar NumPy?**"
   ]
  },
  {
   "cell_type": "code",
   "execution_count": 9,
   "metadata": {},
   "outputs": [],
   "source": [
    "import numpy as np"
   ]
  },
  {
   "cell_type": "markdown",
   "metadata": {},
   "source": [
    "___"
   ]
  },
  {
   "cell_type": "markdown",
   "metadata": {},
   "source": [
    "### **El Array en NumPy**\n",
    "\n",
    "Un array es una estructura de datos que almacena una colección de elementos."
   ]
  },
  {
   "cell_type": "markdown",
   "metadata": {},
   "source": [
    "Se crea de la siguiente manera:"
   ]
  },
  {
   "cell_type": "code",
   "execution_count": 2,
   "metadata": {},
   "outputs": [
    {
     "name": "stdout",
     "output_type": "stream",
     "text": [
      "[1 2 3 4 5]\n"
     ]
    },
    {
     "data": {
      "text/plain": [
       "numpy.ndarray"
      ]
     },
     "execution_count": 2,
     "metadata": {},
     "output_type": "execute_result"
    }
   ],
   "source": [
    "array = np.array([1, 2, 3, 4, 5])\n",
    "print(array)\n",
    "type(array)"
   ]
  },
  {
   "cell_type": "markdown",
   "metadata": {},
   "source": [
    "Como se puede observar, el tipo de dato que usa NumPy para sus arrays es **ndarray**, que es la abreviatura de **N-dimensional array**, o **array multidimensional** en español."
   ]
  },
  {
   "cell_type": "markdown",
   "metadata": {},
   "source": [
    "___"
   ]
  },
  {
   "cell_type": "markdown",
   "metadata": {},
   "source": [
    "### **Características principales**"
   ]
  },
  {
   "cell_type": "markdown",
   "metadata": {},
   "source": [
    "####  **1. Multidimensionalidad**\n",
    "\n",
    "Un **ndarray** puede ser un array de cualquier número de dimensiones."
   ]
  },
  {
   "cell_type": "markdown",
   "metadata": {},
   "source": [
    "**- Escalares**"
   ]
  },
  {
   "cell_type": "code",
   "execution_count": 4,
   "metadata": {},
   "outputs": [
    {
     "name": "stdout",
     "output_type": "stream",
     "text": [
      "5\n"
     ]
    }
   ],
   "source": [
    "scalar = np.array(5)\n",
    "print(scalar)"
   ]
  },
  {
   "cell_type": "markdown",
   "metadata": {},
   "source": [
    "**- Vectores (1D)**"
   ]
  },
  {
   "cell_type": "code",
   "execution_count": 13,
   "metadata": {},
   "outputs": [
    {
     "name": "stdout",
     "output_type": "stream",
     "text": [
      "[1 2 3 4 5]\n"
     ]
    }
   ],
   "source": [
    "vector = np.array([1, 2, 3, 4, 5])\n",
    "print(vector)"
   ]
  },
  {
   "cell_type": "markdown",
   "metadata": {},
   "source": [
    "**- Matrices (2D)**"
   ]
  },
  {
   "cell_type": "code",
   "execution_count": 14,
   "metadata": {},
   "outputs": [
    {
     "name": "stdout",
     "output_type": "stream",
     "text": [
      "[[1 2 3]\n",
      " [4 5 6]\n",
      " [7 8 9]]\n"
     ]
    }
   ],
   "source": [
    "matrix = np.array([[1, 2, 3], [4, 5, 6], [7, 8, 9]])\n",
    "print(matrix)"
   ]
  },
  {
   "cell_type": "markdown",
   "metadata": {},
   "source": [
    "**- Tensores (3D)**"
   ]
  },
  {
   "cell_type": "code",
   "execution_count": 15,
   "metadata": {},
   "outputs": [
    {
     "name": "stdout",
     "output_type": "stream",
     "text": [
      "[[[1 2 3]\n",
      "  [4 5 6]\n",
      "  [7 8 9]]\n",
      "\n",
      " [[1 2 3]\n",
      "  [4 5 6]\n",
      "  [7 8 9]]]\n"
     ]
    }
   ],
   "source": [
    "tensor = np.array([[[1, 2, 3], [4, 5, 6], [7, 8, 9]], [[1, 2, 3], [4, 5, 6], [7, 8, 9]]])\n",
    "print(tensor)"
   ]
  },
  {
   "cell_type": "markdown",
   "metadata": {},
   "source": [
    "---"
   ]
  },
  {
   "cell_type": "markdown",
   "metadata": {},
   "source": [
    "#### **2. Indexación**\n",
    "\n",
    "Cada elemento del ndarray está indexado comenzando desde 0, y podemos acceder fácilmente a ellos utilizando su índice."
   ]
  },
  {
   "cell_type": "code",
   "execution_count": 58,
   "metadata": {},
   "outputs": [
    {
     "name": "stdout",
     "output_type": "stream",
     "text": [
      "3\n",
      "9\n",
      "\n",
      "[1 2 3]\n",
      "[1 4 7]\n",
      "6\n"
     ]
    }
   ],
   "source": [
    "array = np.array([3, 1, 4, 8, 2])\n",
    "print(array[0])\n",
    "print(array[1] + array[3])\n",
    "print(\"\")\n",
    "\n",
    "matrix = np.array([[1, 2, 3], [4, 5, 6], [7, 8, 9]])\n",
    "print(matrix[0]) # Se imprime la primera fila\n",
    "print(matrix[:, 0]) # Se imprime la primera columna\n",
    "print(matrix[1][2]) # Se imprime el elemento de la segunda fila y tercera columna"
   ]
  },
  {
   "cell_type": "markdown",
   "metadata": {},
   "source": [
    "#### **Slicing**\n",
    "Es una técnica que te permite acceder y modificar sub-secciones (subarrays) de un array. La sintaxis básica para hacer slicing en un array de NumPy es la siguiente:\n",
    "\n",
    "**array[inicio:fin:paso]**"
   ]
  },
  {
   "cell_type": "code",
   "execution_count": 59,
   "metadata": {},
   "outputs": [
    {
     "name": "stdout",
     "output_type": "stream",
     "text": [
      "Elementos del índice 2 al 5 (sin incluir 5): [30 40 50]\n",
      "Elementos del índice 0 al 8 con paso 2: [10 30 50 70]\n"
     ]
    }
   ],
   "source": [
    "array = np.array([10, 20, 30, 40, 50, 60, 70, 80, 90, 100])\n",
    "\n",
    "print(\"Elementos del índice 2 al 5 (sin incluir 5):\", array[2:5])\n",
    "print(\"Elementos del índice 0 al 8 con paso 2:\", array[0:8:2])"
   ]
  },
  {
   "cell_type": "markdown",
   "metadata": {},
   "source": [
    "---"
   ]
  },
  {
   "cell_type": "markdown",
   "metadata": {},
   "source": [
    "####  **2. Homogeneidad**\n",
    "\n",
    "Todos los elementos dentro de un **ndarray** son del mismo tipo de dato.\n",
    "\n"
   ]
  },
  {
   "cell_type": "code",
   "execution_count": 66,
   "metadata": {},
   "outputs": [
    {
     "name": "stdout",
     "output_type": "stream",
     "text": [
      "Lista de Python: [1, 2.5, 'hello']\n",
      "Tipos de los elementos en el array de python:\n",
      "Elemento 0: <class 'int'>\n",
      "Elemento 1: <class 'float'>\n",
      "Elemento 2: <class 'str'>\n"
     ]
    }
   ],
   "source": [
    "#Array de Python\n",
    "lista = [1, 2.5, \"hello\"]\n",
    "print(\"Lista de Python:\", lista)\n",
    "print(\"Tipos de los elementos en el array de python:\")\n",
    "for i, elem in enumerate(lista):\n",
    "    print(f\"Elemento {i}: {type(elem)}\")"
   ]
  },
  {
   "cell_type": "code",
   "execution_count": 67,
   "metadata": {},
   "outputs": [
    {
     "name": "stdout",
     "output_type": "stream",
     "text": [
      "Array de NumPy: ['1' '2.5' 'hello']\n",
      "Tipo de los elementos en el array de NumPy:\n",
      "<U32\n"
     ]
    }
   ],
   "source": [
    "# Array de NumPy\n",
    "array = np.array([1, 2.5, \"hello\"])\n",
    "print(\"Array de NumPy:\", array)\n",
    "\n",
    "\n",
    "print(\"Tipo de los elementos en el array de NumPy:\")\n",
    "print(array.dtype)  # Tipo de dato común para todos los elementos"
   ]
  },
  {
   "cell_type": "markdown",
   "metadata": {},
   "source": [
    "---"
   ]
  },
  {
   "cell_type": "markdown",
   "metadata": {},
   "source": [
    "####  **3. Eficiencia**\n",
    "\n",
    "Los arrays **ndarray** están implementados en **C**, lo que permite que las operaciones sean mucho más rápidas que las realizadas sobre listas tradicionales de Python"
   ]
  },
  {
   "cell_type": "code",
   "execution_count": 37,
   "metadata": {},
   "outputs": [
    {
     "name": "stdout",
     "output_type": "stream",
     "text": [
      "Tiempo para sumar la lista de Python: 0.012794733047485352\n",
      "Tiempo para sumar el array de NumPy: 0.0010662078857421875\n"
     ]
    }
   ],
   "source": [
    "import time\n",
    "\n",
    "# Lista de Python con un millón de elementos\n",
    "lista_python = list(range(1, 1000001))\n",
    "\n",
    "# Array de NumPy con un millón de elementos\n",
    "array_numpy = np.array(range(1, 1000001))\n",
    "\n",
    "# Medir el tiempo de suma de la lista de Python\n",
    "start_time = time.time()\n",
    "sum(lista_python)\n",
    "print(\"Tiempo para sumar la lista de Python:\", time.time() - start_time)\n",
    "\n",
    "# Medir el tiempo de suma del array de NumPy\n",
    "start_time = time.time()\n",
    "np.sum(array_numpy)\n",
    "print(\"Tiempo para sumar el array de NumPy:\", time.time() - start_time)"
   ]
  },
  {
   "cell_type": "markdown",
   "metadata": {},
   "source": [
    "---"
   ]
  },
  {
   "cell_type": "markdown",
   "metadata": {},
   "source": [
    "####  **4. Soporte para operaciones vectorizadas**\n",
    "\n",
    "Los arrays **ndarray** permiten realizar operaciones matemáticas de manera eficiente y directa sobre todos los elementos del array sin necesidad de usar bucles explícitos."
   ]
  },
  {
   "cell_type": "code",
   "execution_count": 43,
   "metadata": {},
   "outputs": [
    {
     "name": "stdout",
     "output_type": "stream",
     "text": [
      "Array original: [1 2 3 4 5]\n",
      "Array multiplicado por 2: [ 2  4  6  8 10]\n",
      "Array sumado 3: [4 5 6 7 8]\n",
      "Raíz cuadrada de cada elemento: [1.         1.41421356 1.73205081 2.         2.23606798]\n"
     ]
    }
   ],
   "source": [
    "array = np.array([1, 2, 3, 4, 5])\n",
    "\n",
    "# Operaciones vectorizadas en el array\n",
    "multiplicado_por_2 = array * 2\n",
    "sumado_3 = array + 3\n",
    "raiz_cuadrada = np.sqrt(array)\n",
    "\n",
    "# Imprimir los resultados\n",
    "print(\"Array original:\", array)\n",
    "print(\"Array multiplicado por 2:\", multiplicado_por_2)\n",
    "print(\"Array sumado 3:\", sumado_3)\n",
    "print(\"Raíz cuadrada de cada elemento:\", raiz_cuadrada)"
   ]
  },
  {
   "cell_type": "markdown",
   "metadata": {},
   "source": [
    "---"
   ]
  },
  {
   "cell_type": "markdown",
   "metadata": {},
   "source": [
    "## **Atributos**\n",
    "\n",
    "El **ndarray** tiene varios atributos útiles como:"
   ]
  },
  {
   "cell_type": "code",
   "execution_count": 11,
   "metadata": {},
   "outputs": [
    {
     "name": "stdout",
     "output_type": "stream",
     "text": [
      "[[1 2]\n",
      " [3 4]\n",
      " [5 6]]\n",
      "\n",
      "Atributos\n",
      "Dimension: 2\n",
      "Número de elementos por dimension: (3, 2)\n",
      "Número de elementos totales: 6\n",
      "Tipo de datos: int64\n",
      "Tamaño de los elementos: 8\n"
     ]
    }
   ],
   "source": [
    "matrix = np.array([[1, 2], [3, 4], [5, 6]])\n",
    "print(matrix)\n",
    "print(\"\\nAtributos\")\n",
    "print(\"Dimension:\", matrix.ndim)  # Devuelve el número de dimensiones.\n",
    "print(\"Número de elementos por dimension:\", matrix.shape)  # Devuelve una tupla con el número de elementos en cada dimensión.\n",
    "print(\"Número de elementos totales:\", matrix.size)   # Devuelve el número total de elementos.\n",
    "print(\"Tipo de datos:\", matrix.dtype)  # El tipo de datos de los elementos en el array.\n",
    "print(\"Tamaño de los elementos:\", matrix.itemsize)  # El tamaño en bytes de cada elemento."
   ]
  },
  {
   "cell_type": "markdown",
   "metadata": {},
   "source": [
    "Puedes cambiar el tipo de datos modificando el atributo **dtype**, así:"
   ]
  },
  {
   "cell_type": "code",
   "execution_count": 83,
   "metadata": {},
   "outputs": [
    {
     "name": "stdout",
     "output_type": "stream",
     "text": [
      "[0. 1. 2. 0.]\n",
      "float64\n"
     ]
    }
   ],
   "source": [
    "array = np.array([0, 1, 2, 0], dtype=np.float64)\n",
    "print(array)\n",
    "print(array.dtype)"
   ]
  },
  {
   "cell_type": "markdown",
   "metadata": {},
   "source": [
    "O puedes cambiar el tipo de datos de un array existente así:"
   ]
  },
  {
   "cell_type": "code",
   "execution_count": 84,
   "metadata": {},
   "outputs": [
    {
     "data": {
      "text/plain": [
       "array([False,  True,  True, False])"
      ]
     },
     "execution_count": 84,
     "metadata": {},
     "output_type": "execute_result"
    }
   ],
   "source": [
    "array = array.astype(np.bool)\n",
    "array"
   ]
  },
  {
   "cell_type": "code",
   "execution_count": 85,
   "metadata": {},
   "outputs": [
    {
     "data": {
      "text/plain": [
       "array(['0', '1', '1', '0'], dtype='<U21')"
      ]
     },
     "execution_count": 85,
     "metadata": {},
     "output_type": "execute_result"
    }
   ],
   "source": [
    "array = array.astype(np.int_)\n",
    "array = array.astype(np.str_)\n",
    "array"
   ]
  },
  {
   "cell_type": "markdown",
   "metadata": {},
   "source": [
    "___"
   ]
  },
  {
   "cell_type": "markdown",
   "metadata": {},
   "source": [
    "### **Expandir dimensiones**\n",
    "Puedes expandir la dimension de un array usando **np.expand_dims()**."
   ]
  },
  {
   "cell_type": "markdown",
   "metadata": {},
   "source": [
    "- **axis=0** para agregar filas"
   ]
  },
  {
   "cell_type": "code",
   "execution_count": 11,
   "metadata": {},
   "outputs": [
    {
     "name": "stdout",
     "output_type": "stream",
     "text": [
      "[2 4 6]\n"
     ]
    },
    {
     "data": {
      "text/plain": [
       "1"
      ]
     },
     "execution_count": 11,
     "metadata": {},
     "output_type": "execute_result"
    }
   ],
   "source": [
    "array = np.array([2,4,6])\n",
    "print(array)\n",
    "array.ndim"
   ]
  },
  {
   "cell_type": "code",
   "execution_count": 4,
   "metadata": {},
   "outputs": [
    {
     "name": "stdout",
     "output_type": "stream",
     "text": [
      "[[2 4 6]]\n",
      "(1, 3)\n"
     ]
    },
    {
     "data": {
      "text/plain": [
       "2"
      ]
     },
     "execution_count": 4,
     "metadata": {},
     "output_type": "execute_result"
    }
   ],
   "source": [
    "array_expand = np.expand_dims(array, axis=0)\n",
    "print(array_expand)\n",
    "print(array_expand.shape)\n",
    "array_expand.ndim"
   ]
  },
  {
   "cell_type": "markdown",
   "metadata": {},
   "source": [
    "- **axis=1** para agregar columnas"
   ]
  },
  {
   "cell_type": "code",
   "execution_count": 13,
   "metadata": {},
   "outputs": [
    {
     "name": "stdout",
     "output_type": "stream",
     "text": [
      "[[2]\n",
      " [4]\n",
      " [6]]\n",
      "(3, 1)\n"
     ]
    },
    {
     "data": {
      "text/plain": [
       "2"
      ]
     },
     "execution_count": 13,
     "metadata": {},
     "output_type": "execute_result"
    }
   ],
   "source": [
    "array_expand_2 = np.expand_dims(array, axis=1)\n",
    "print(array_expand_2)\n",
    "print(array_expand_2.shape)\n",
    "array_expand_2.ndim"
   ]
  },
  {
   "cell_type": "markdown",
   "metadata": {},
   "source": [
    "___"
   ]
  },
  {
   "cell_type": "markdown",
   "metadata": {},
   "source": [
    "### **Reducir dimensiones**\n",
    "Cuando tienes un array con dimensiones adicionales o no deseadas, puedes usar el método **np.squeeze()** para eliminar cualquier dimensión de tamaño 1. Esto es útil para simplificar la estructura del array y facilitar su manipulación."
   ]
  },
  {
   "cell_type": "code",
   "execution_count": 6,
   "metadata": {},
   "outputs": [
    {
     "name": "stdout",
     "output_type": "stream",
     "text": [
      "[[[[[1 2 3]]]]] 5\n"
     ]
    }
   ],
   "source": [
    "array = np.array([1, 2, 3], ndmin=5)\n",
    "print(array, array.ndim)"
   ]
  },
  {
   "cell_type": "code",
   "execution_count": 7,
   "metadata": {},
   "outputs": [
    {
     "name": "stdout",
     "output_type": "stream",
     "text": [
      "[1 2 3] 1\n"
     ]
    }
   ],
   "source": [
    "reduced_array = np.squeeze(array)\n",
    "print(reduced_array, reduced_array.ndim)"
   ]
  },
  {
   "cell_type": "markdown",
   "metadata": {},
   "source": [
    "___"
   ]
  },
  {
   "cell_type": "markdown",
   "metadata": {},
   "source": [
    "## **Autorellenar un array**"
   ]
  },
  {
   "cell_type": "markdown",
   "metadata": {},
   "source": [
    "### **Elementos ordenados**"
   ]
  },
  {
   "cell_type": "markdown",
   "metadata": {},
   "source": [
    "Para crear un array con valores espaciados uniformemente dentro de un rango especificado, puedes usar la función **np.arange()**."
   ]
  },
  {
   "cell_type": "markdown",
   "metadata": {},
   "source": [
    "- Crear un rango básico"
   ]
  },
  {
   "cell_type": "code",
   "execution_count": null,
   "metadata": {},
   "outputs": [
    {
     "data": {
      "text/plain": [
       "array([0, 1, 2, 3, 4, 5, 6, 7, 8, 9])"
      ]
     },
     "execution_count": 16,
     "metadata": {},
     "output_type": "execute_result"
    }
   ],
   "source": [
    "array = np.arange(10) # Array de 0 a 10\n",
    "array"
   ]
  },
  {
   "cell_type": "markdown",
   "metadata": {},
   "source": [
    "- Especificar un valor inicial"
   ]
  },
  {
   "cell_type": "code",
   "execution_count": 21,
   "metadata": {},
   "outputs": [
    {
     "data": {
      "text/plain": [
       "array([ 5,  6,  7,  8,  9, 10, 11, 12, 13, 14])"
      ]
     },
     "execution_count": 21,
     "metadata": {},
     "output_type": "execute_result"
    }
   ],
   "source": [
    "array = np.arange(5,15) # Array con rango de 5 a 15\n",
    "array"
   ]
  },
  {
   "cell_type": "markdown",
   "metadata": {},
   "source": [
    "- Usar un paso específico"
   ]
  },
  {
   "cell_type": "code",
   "execution_count": 20,
   "metadata": {},
   "outputs": [
    {
     "data": {
      "text/plain": [
       "array([1, 3, 5, 7, 9])"
      ]
     },
     "execution_count": 20,
     "metadata": {},
     "output_type": "execute_result"
    }
   ],
   "source": [
    "array = np.arange(1, 10, 2)  # Rango de 1 a 10 con un paso de 2\n",
    "array"
   ]
  },
  {
   "cell_type": "markdown",
   "metadata": {},
   "source": [
    "- Especificar un tipo de dato"
   ]
  },
  {
   "cell_type": "code",
   "execution_count": 22,
   "metadata": {},
   "outputs": [
    {
     "name": "stdout",
     "output_type": "stream",
     "text": [
      "[1. 2. 3. 4.]\n"
     ]
    }
   ],
   "source": [
    "arr = np.arange(1, 5, dtype=float)  # Crea un rango con tipo float\n",
    "print(arr)"
   ]
  },
  {
   "cell_type": "markdown",
   "metadata": {},
   "source": [
    "___"
   ]
  },
  {
   "cell_type": "markdown",
   "metadata": {},
   "source": [
    "### **Elementos distribuidos**\n",
    "Con la función **np.linespace()** puedes generar una secuencia de números igualmente espaciados dentro de un rango definido.\n",
    "\n",
    "**Usos comunes:**\n",
    "- Generación de puntos para gráficos y visualizaciones\n",
    "- Interpolación y ajuste de curvas\n",
    "- Simulaciones numéricas"
   ]
  },
  {
   "cell_type": "code",
   "execution_count": 34,
   "metadata": {},
   "outputs": [
    {
     "data": {
      "text/plain": [
       "array([0.        , 0.55555556, 1.11111111, 1.66666667, 2.22222222,\n",
       "       2.77777778, 3.33333333, 3.88888889, 4.44444444, 5.        ])"
      ]
     },
     "execution_count": 34,
     "metadata": {},
     "output_type": "execute_result"
    }
   ],
   "source": [
    "arr = np.linspace(0, 5, num=10)\n",
    "arr"
   ]
  },
  {
   "cell_type": "markdown",
   "metadata": {},
   "source": [
    "___"
   ]
  },
  {
   "cell_type": "markdown",
   "metadata": {},
   "source": [
    "### **Arrays de ceros (0)**\n",
    "En muchas ocasiones, necesitarás inicializar arrays para almacenar resultados posteriormente. Para crear un array lleno de ceros, se utiliza la función **np.zeros()**."
   ]
  },
  {
   "cell_type": "markdown",
   "metadata": {},
   "source": [
    "- Crear un arreglo unidimensional de ceros"
   ]
  },
  {
   "cell_type": "code",
   "execution_count": 23,
   "metadata": {},
   "outputs": [
    {
     "name": "stdout",
     "output_type": "stream",
     "text": [
      "[0. 0. 0. 0. 0.]\n"
     ]
    }
   ],
   "source": [
    "arr = np.zeros(5)  # Crea un arreglo de 5 ceros\n",
    "print(arr)"
   ]
  },
  {
   "cell_type": "markdown",
   "metadata": {},
   "source": [
    "- Crear una matriz de ceros"
   ]
  },
  {
   "cell_type": "code",
   "execution_count": 24,
   "metadata": {},
   "outputs": [
    {
     "name": "stdout",
     "output_type": "stream",
     "text": [
      "[[0. 0. 0. 0.]\n",
      " [0. 0. 0. 0.]\n",
      " [0. 0. 0. 0.]]\n"
     ]
    }
   ],
   "source": [
    "arr = np.zeros((3, 4))  # Matriz de 3 filas y 4 columnas\n",
    "print(arr)"
   ]
  },
  {
   "cell_type": "markdown",
   "metadata": {},
   "source": [
    "- Especificar el tipo de datos"
   ]
  },
  {
   "cell_type": "code",
   "execution_count": 25,
   "metadata": {},
   "outputs": [
    {
     "name": "stdout",
     "output_type": "stream",
     "text": [
      "[0 0 0 0 0]\n"
     ]
    }
   ],
   "source": [
    "arr = np.zeros(5, dtype=int)  # Arreglo de 5 ceros enteros\n",
    "print(arr)"
   ]
  },
  {
   "cell_type": "markdown",
   "metadata": {},
   "source": [
    "___"
   ]
  },
  {
   "cell_type": "markdown",
   "metadata": {},
   "source": [
    "### **Arrays de unos (1)**"
   ]
  },
  {
   "cell_type": "markdown",
   "metadata": {},
   "source": [
    "Tambíen puedes llenar arrays con unos (1) usando **np.ones()**, que tiene la misma estructura y funcionalidades de **np.zeros()**."
   ]
  },
  {
   "cell_type": "code",
   "execution_count": 28,
   "metadata": {},
   "outputs": [
    {
     "data": {
      "text/plain": [
       "array([[1., 1.],\n",
       "       [1., 1.],\n",
       "       [1., 1.]])"
      ]
     },
     "execution_count": 28,
     "metadata": {},
     "output_type": "execute_result"
    }
   ],
   "source": [
    "arr_ones = np.ones((3,2))\n",
    "arr_ones"
   ]
  },
  {
   "cell_type": "markdown",
   "metadata": {},
   "source": [
    "___"
   ]
  },
  {
   "cell_type": "markdown",
   "metadata": {},
   "source": [
    "### **Matriz identidad**\n",
    "La función **np.eye()** se utiliza para generar una matriz identidad, que es una matriz cuadrada donde los elementos de la diagonal principal son unos, mientras que el resto de los elementos son ceros."
   ]
  },
  {
   "cell_type": "code",
   "execution_count": 43,
   "metadata": {},
   "outputs": [
    {
     "data": {
      "text/plain": [
       "array([[1., 0., 0.],\n",
       "       [0., 1., 0.],\n",
       "       [0., 0., 1.]])"
      ]
     },
     "execution_count": 43,
     "metadata": {},
     "output_type": "execute_result"
    }
   ],
   "source": [
    "identity_matrix = np.eye(3)\n",
    "identity_matrix"
   ]
  },
  {
   "cell_type": "markdown",
   "metadata": {},
   "source": [
    "___"
   ]
  },
  {
   "cell_type": "markdown",
   "metadata": {},
   "source": [
    "### **Array random**\n",
    "También se puede generar valores aleatorio en un array usando **np.random.rand()**. Esta función crea valores aleatorios entre 0 y 1."
   ]
  },
  {
   "cell_type": "code",
   "execution_count": 44,
   "metadata": {},
   "outputs": [
    {
     "data": {
      "text/plain": [
       "array([[0.93205498, 0.15826316],\n",
       "       [0.84281975, 0.35010304],\n",
       "       [0.47603377, 0.67473685]])"
      ]
     },
     "execution_count": 44,
     "metadata": {},
     "output_type": "execute_result"
    }
   ],
   "source": [
    "random_arr = np.random.rand(3, 2)\n",
    "random_arr"
   ]
  },
  {
   "cell_type": "markdown",
   "metadata": {},
   "source": [
    "Si necesitas que los valores aleatorios estén dentro de un rango utiliza **np.random.randint()**."
   ]
  },
  {
   "cell_type": "code",
   "execution_count": 46,
   "metadata": {},
   "outputs": [
    {
     "data": {
      "text/plain": [
       "array([[5, 3],\n",
       "       [7, 1],\n",
       "       [4, 8]])"
      ]
     },
     "execution_count": 46,
     "metadata": {},
     "output_type": "execute_result"
    }
   ],
   "source": [
    "random_arr = np.random.randint(1, 10, size=(3, 2))\n",
    "random_arr"
   ]
  },
  {
   "cell_type": "markdown",
   "metadata": {},
   "source": [
    "___"
   ]
  },
  {
   "cell_type": "markdown",
   "metadata": {},
   "source": [
    "### **Redimensionar un array**\n",
    "La función **np.reshape()** permite cambiar la dimension del array, siempre y cuando el número total de elementos sea el mismo antes y después del cambio."
   ]
  },
  {
   "cell_type": "code",
   "execution_count": 67,
   "metadata": {},
   "outputs": [
    {
     "data": {
      "text/plain": [
       "array([[0, 9, 5, 8],\n",
       "       [5, 1, 4, 2]])"
      ]
     },
     "execution_count": 67,
     "metadata": {},
     "output_type": "execute_result"
    }
   ],
   "source": [
    "arr = np.random.randint(0,10, size=(2, 4))\n",
    "arr"
   ]
  },
  {
   "cell_type": "code",
   "execution_count": 68,
   "metadata": {},
   "outputs": [
    {
     "data": {
      "text/plain": [
       "array([[0, 9, 5, 8, 5, 1, 4, 2]])"
      ]
     },
     "execution_count": 68,
     "metadata": {},
     "output_type": "execute_result"
    }
   ],
   "source": [
    "arr_reshape = arr.reshape(1,8)\n",
    "arr_reshape"
   ]
  },
  {
   "cell_type": "markdown",
   "metadata": {},
   "source": [
    "Para el control del orden de los elementos al hacer el redimensionamiento se puede usar el argumento **order**, que puede tomar los siguientes valores:"
   ]
  },
  {
   "cell_type": "markdown",
   "metadata": {},
   "source": [
    "- **'C' (por defecto):** Los datos se leen en orden de fila (C-style row-major order)."
   ]
  },
  {
   "cell_type": "code",
   "execution_count": 69,
   "metadata": {},
   "outputs": [
    {
     "data": {
      "text/plain": [
       "array([[0, 9],\n",
       "       [5, 8],\n",
       "       [5, 1],\n",
       "       [4, 2]])"
      ]
     },
     "execution_count": 69,
     "metadata": {},
     "output_type": "execute_result"
    }
   ],
   "source": [
    "arr_reshape_c = arr.reshape(4,2, order='C')\n",
    "arr_reshape_c"
   ]
  },
  {
   "cell_type": "markdown",
   "metadata": {},
   "source": [
    "- **'F':** Los datos se leen en orden de columna (Fortran-style column-major order)."
   ]
  },
  {
   "cell_type": "code",
   "execution_count": 71,
   "metadata": {},
   "outputs": [
    {
     "data": {
      "text/plain": [
       "array([[0, 5],\n",
       "       [5, 4],\n",
       "       [9, 8],\n",
       "       [1, 2]])"
      ]
     },
     "execution_count": 71,
     "metadata": {},
     "output_type": "execute_result"
    }
   ],
   "source": [
    "arr_reshape_f = arr.reshape(4,2, order='F')\n",
    "arr_reshape_f"
   ]
  },
  {
   "cell_type": "markdown",
   "metadata": {},
   "source": [
    "- **'A':** Adapta el comportamiento según el diseño de memoria del arreglo original: actúa como 'C' si está en orden 'C', y como 'F' si está en orden 'F'."
   ]
  },
  {
   "cell_type": "code",
   "execution_count": 74,
   "metadata": {},
   "outputs": [
    {
     "data": {
      "text/plain": [
       "array([[0, 5],\n",
       "       [5, 4],\n",
       "       [9, 8],\n",
       "       [1, 2]])"
      ]
     },
     "execution_count": 74,
     "metadata": {},
     "output_type": "execute_result"
    }
   ],
   "source": [
    "arr_reshape_a = arr_reshape_f.reshape(4,2, order='A')\n",
    "arr_reshape_a # Va a ser order 'F' porque el array original fue creado con order 'F'"
   ]
  },
  {
   "cell_type": "markdown",
   "metadata": {},
   "source": [
    "___"
   ]
  }
 ],
 "metadata": {
  "kernelspec": {
   "display_name": "data-env",
   "language": "python",
   "name": "python3"
  },
  "language_info": {
   "codemirror_mode": {
    "name": "ipython",
    "version": 3
   },
   "file_extension": ".py",
   "mimetype": "text/x-python",
   "name": "python",
   "nbconvert_exporter": "python",
   "pygments_lexer": "ipython3",
   "version": "3.12.8"
  }
 },
 "nbformat": 4,
 "nbformat_minor": 2
}
