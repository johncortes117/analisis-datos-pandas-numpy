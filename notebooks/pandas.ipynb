{
 "cells": [
  {
   "cell_type": "markdown",
   "metadata": {},
   "source": [
    "# **Pandas**\n",
    "\n",
    "Pandas es una librería de Python que utiliza NumPy como núcleo y fue construida sobre él. Es ampliamente utilizada para la manipulación y análisis de datos.\n",
    "\n",
    "### **Ventajas:**\n",
    "\n",
    "- **Compatibilidad con NumPy**: Mantiene las mismas ventajas de NumPy, aprovechando su eficiencia y velocidad.\n",
    "- **Manejo de múltiples archivos**: Facilita la lectura y escritura de datos desde y hacia diferentes formatos de archivo (CSV, Excel, SQL, etc.).\n",
    "- **Alineación inteligente**: Ofrece una alineación automática de datos basada en etiquetas, lo que simplifica la manipulación de datos.\n",
    "- **Versatilidad en tipos de datos**: Ideal para manejar y manipular distintos tipos de datos, incluyendo datos heterogéneos y faltantes.\n",
    "- **Creación de dashboards**: Permite la creación de dashboards y visualizaciones interactivas mediante su integración con otras librerías de visualización.\n",
    "- **Manejo de grandes volúmenes de datos**: Capaz de manejar grandes lotes de datos de manera eficiente, facilitando el análisis de big data."
   ]
  },
  {
   "cell_type": "markdown",
   "metadata": {},
   "source": [
    "### **¿Como importar Pandas?**"
   ]
  },
  {
   "cell_type": "code",
   "execution_count": 1,
   "metadata": {},
   "outputs": [],
   "source": [
    "import pandas as pd"
   ]
  }
 ],
 "metadata": {
  "kernelspec": {
   "display_name": "data-env",
   "language": "python",
   "name": "python3"
  },
  "language_info": {
   "codemirror_mode": {
    "name": "ipython",
    "version": 3
   },
   "file_extension": ".py",
   "mimetype": "text/x-python",
   "name": "python",
   "nbconvert_exporter": "python",
   "pygments_lexer": "ipython3",
   "version": "undefined.undefined.undefined"
  }
 },
 "nbformat": 4,
 "nbformat_minor": 2
}
